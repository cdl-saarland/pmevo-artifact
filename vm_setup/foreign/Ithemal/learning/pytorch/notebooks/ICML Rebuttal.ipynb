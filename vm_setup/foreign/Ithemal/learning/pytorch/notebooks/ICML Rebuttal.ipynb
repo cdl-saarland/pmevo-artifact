{
 "cells": [
  {
   "cell_type": "code",
   "execution_count": null,
   "metadata": {},
   "outputs": [],
   "source": [
    "%matplotlib notebook\n",
    "\n",
    "import common_libs.utilities as ut\n",
    "import pandas as pd\n",
    "import data.data_cost as dt\n",
    "import numpy as np\n",
    "from scipy.stats import linregress\n",
    "import models.graph_models as md\n",
    "import models.train as tr\n",
    "import models.losses as ls\n",
    "import tqdm\n",
    "import seaborn as sns\n",
    "import sklearn\n",
    "import scipy\n",
    "from matplotlib import pyplot as plt\n",
    "import random\n",
    "import torch"
   ]
  },
  {
   "cell_type": "code",
   "execution_count": null,
   "metadata": {},
   "outputs": [],
   "source": [
    "cnx = ut.create_connection()\n",
    "times = pd.read_sql('SELECT * FROM times', cnx).set_index('time_id')"
   ]
  },
  {
   "cell_type": "code",
   "execution_count": null,
   "metadata": {},
   "outputs": [],
   "source": [
    "data_haswell = dt.load_dataset('../inputs/embeddings/code_delim.emb', '../saved/time_haswell_0113.data')\n",
    "data_skylake = dt.load_dataset('../inputs/embeddings/code_delim.emb', '../saved/time_skylake_0113.data')\n",
    "data_nehalem = dt.load_dataset('../inputs/embeddings/code_delim.emb', '../saved/time_nehalem_0113.data')"
   ]
  },
  {
   "cell_type": "code",
   "execution_count": null,
   "metadata": {},
   "outputs": [],
   "source": [
    "haswell_times = pd.DataFrame(data_haswell.raw_data, columns=['code_token', 'time', 'code_intel', 'code_id']).set_index('code_id')['time']\n",
    "skylake_times = pd.DataFrame(data_skylake.raw_data, columns=['code_token', 'time', 'code_intel', 'code_id']).set_index('code_id')['time']\n",
    "nehalem_times = pd.DataFrame(data_nehalem.raw_data, columns=['code_token', 'time', 'code_intel', 'code_id']).set_index('code_id')['time']"
   ]
  },
  {
   "cell_type": "code",
   "execution_count": null,
   "metadata": {},
   "outputs": [],
   "source": [
    "iaca_test_code_ids = set(kind_times_of_arch('iaca', 1).index)\n",
    "haswell_code_ids = set(d.code_id for d in data_haswell.data)\n",
    "\n",
    "print(float(sum(len(d.block.instrs) for d in data_haswell.data if d.code_id in iaca_code_ids)) / len(haswell_code_ids & iaca_test_code_ids))\n",
    "print(float(sum(len(d.block.instrs) for d in data_haswell.data)) / len(haswell_code_ids))"
   ]
  },
  {
   "cell_type": "code",
   "execution_count": null,
   "metadata": {},
   "outputs": [],
   "source": [
    "q = set(d.code_id for d in data_haswell.data)"
   ]
  },
  {
   "cell_type": "code",
   "execution_count": null,
   "metadata": {},
   "outputs": [],
   "source": [
    "for data in [data_haswell, data_skylake, data_nehalem]:\n",
    "    for datum in data.data:\n",
    "        datum.block.remove_edges()\n",
    "        datum.block.linearize_edges()"
   ]
  },
  {
   "cell_type": "code",
   "execution_count": null,
   "metadata": {},
   "outputs": [],
   "source": [
    "legal_code_ids = set(haswell_times.index) & set(skylake_times.index) & set(nehalem_times.index)"
   ]
  },
  {
   "cell_type": "code",
   "execution_count": null,
   "metadata": {},
   "outputs": [],
   "source": [
    "def get_model(model_name):\n",
    "    model = md.GraphNN(256, 256, 1, False, False, True)\n",
    "    model.set_learnable_embedding('none', 1337)\n",
    "    trainer = tr.Train(model, data, tr.PredictionType.REGRESSION, ls.mse_loss, 1)\n",
    "    _ = trainer.load_checkpoint(model_name)\n",
    "    return model\n",
    "\n",
    "haswell_model = get_model('../saved/paper_haswell_lstm_sgd-6_trained.mdl')\n",
    "skylake_model = get_model('../saved/paper_skylake_lstm_sgd-6_trained.mdl')\n",
    "nehalem_model = get_model('../saved/paper_nehalem_lstm_sgd-6_trained.mdl')"
   ]
  },
  {
   "cell_type": "code",
   "execution_count": null,
   "metadata": {},
   "outputs": [],
   "source": [
    "scipy.spatial.distance.cosine(\n",
    "    skylake_model.linear.weight.detach().numpy()[0],\n",
    "    nehalem_model.linear.weight.detach().numpy()[0]\n",
    ")"
   ]
  },
  {
   "cell_type": "code",
   "execution_count": null,
   "metadata": {},
   "outputs": [],
   "source": [
    "skylake_model.linear.weight.detach().numpy()[0]"
   ]
  },
  {
   "cell_type": "code",
   "execution_count": null,
   "metadata": {},
   "outputs": [],
   "source": [
    "def get_preds_of(data, model_name):\n",
    "    model = get_model(model_name)\n",
    "    preds = []\n",
    "    code_ids = []\n",
    "    for datum in tqdm.tqdm(data.test):\n",
    "        code_ids.append(datum.code_id)\n",
    "        preds.append(model.forward(datum).item())\n",
    "        model.remove_refs(datum)\n",
    "    df = pd.DataFrame(preds, code_ids, columns=['pred'])\n",
    "    df.index.name = 'code_id'\n",
    "    return df"
   ]
  },
  {
   "cell_type": "code",
   "execution_count": null,
   "metadata": {},
   "outputs": [],
   "source": [
    "haswell_preds = get_preds_of(data_haswell, '../saved/paper_haswell_lstm_sgd-6_trained.mdl')\n",
    "skylake_preds = get_preds_of(data_skylake, '../saved/paper_skylake_lstm_sgd-6_trained.mdl')\n",
    "nehalem_preds = get_preds_of(data_nehalem, '../saved/paper_nehalem_lstm_sgd-6_trained.mdl')"
   ]
  },
  {
   "cell_type": "code",
   "execution_count": null,
   "metadata": {},
   "outputs": [],
   "source": [
    "model = get_model('../saved/paper_haswell_lstm_sgd-6_trained.mdl')\n",
    "sampled_code_ids = random.sample(iaca_code_ids, 1000)0\n",
    "codes = [d for d in data_haswell.data if d.code_id in sampled_code_ids]"
   ]
  },
  {
   "cell_type": "code",
   "execution_count": null,
   "metadata": {},
   "outputs": [],
   "source": [
    "# ','.join(map(str, (c.code_id for c in codes)))"
   ]
  },
  {
   "cell_type": "code",
   "execution_count": null,
   "metadata": {},
   "outputs": [],
   "source": [
    "%%timeit\n",
    "\n",
    "for datum in codes:\n",
    "    model.forward(datum).item()\n",
    "    model.remove_refs(datum)"
   ]
  },
  {
   "cell_type": "code",
   "execution_count": null,
   "metadata": {},
   "outputs": [],
   "source": [
    "import pickle\n",
    "\n",
    "with open('/home/ithemal/ithemal/iaca-lin64/1552421033.04/pickleout', 'rb') as f:\n",
    "    m = pickle.load(f)\n",
    "m = {int(k): m[k] for k in m}"
   ]
  },
  {
   "cell_type": "code",
   "execution_count": null,
   "metadata": {},
   "outputs": [],
   "source": [
    "z = kind_times_of_arch('iaca', 1)\n",
    "# for k in m:\n",
    "#     z.loc[k] = m[k]\n",
    "z = z.loc[list(m.keys())]\n",
    "((z - haswell_times).abs() / haswell_times).mean()"
   ]
  },
  {
   "cell_type": "code",
   "execution_count": null,
   "metadata": {},
   "outputs": [],
   "source": [
    "((z - haswell_times).abs() / haswell_times).mean()"
   ]
  },
  {
   "cell_type": "code",
   "execution_count": null,
   "metadata": {},
   "outputs": [],
   "source": []
  },
  {
   "cell_type": "code",
   "execution_count": null,
   "metadata": {},
   "outputs": [],
   "source": [
    "haswell_train_nehalem_preds = get_preds_of(data_nehalem, '../saved/paper_haswell_lstm_sgd-6_trained.mdl')\n",
    "# haswell_train_skylake_preds = get_preds_of(data_haswell, '../saved/paper_haswell_lstm_sgd-6_trained.mdl')\n",
    "\n",
    "# skylake_preds = get_preds_of(data_skylake, '../saved/paper_skylake_lstm_sgd-6_trained.mdl')\n",
    "# nehalem_preds = get_preds_of(data_nehalem, '../saved/paper_nehalem_lstm_sgd-6_trained.mdl')"
   ]
  },
  {
   "cell_type": "code",
   "execution_count": null,
   "metadata": {},
   "outputs": [],
   "source": [
    "idxs = set(haswell_train_nehalem_preds.index) & set(nehalem_times.index)\n",
    "print(((haswell_train_nehalem_preds['pred'] - nehalem_times).abs() / nehalem_times).dropna().mean())\n",
    "print(scipy.stats.spearmanr(haswell_train_nehalem_preds['pred'].loc[idxs], nehalem_times.loc[idxs]))\n",
    "\n",
    "print(((nehalem_preds['pred'] - nehalem_times).abs() / nehalem_times).dropna().mean())\n",
    "print(scipy.stats.spearmanr(nehalem_preds['pred'].loc[idxs], nehalem_times.loc[idxs]))"
   ]
  },
  {
   "cell_type": "code",
   "execution_count": null,
   "metadata": {},
   "outputs": [],
   "source": [
    "z = set(haswell_times.index) & set(kind_times_of_arch('iaca', 1).index)\n",
    "q = [d.block.instrs for d in data_haswell.data if d.code_id in z]\n",
    "sum(map(len, q)) / float(len(q))"
   ]
  },
  {
   "cell_type": "code",
   "execution_count": null,
   "metadata": {},
   "outputs": [],
   "source": [
    "def kind_times_of_arch(kind, arch):\n",
    "    return times[(times['kind'] == kind) & (times['arch'] == arch)].groupby('code_id').mean()['time']"
   ]
  },
  {
   "cell_type": "code",
   "execution_count": null,
   "metadata": {},
   "outputs": [],
   "source": [
    "def merge_sort(li, c):\n",
    "    if len(li) < 2: return li \n",
    "    m = len(li) / 2 \n",
    "    left = li[:m]\n",
    "    right = li[m:]\n",
    "    merge_sort(left, c)\n",
    "    merge_sort(right, c)\n",
    "    merge(left, right, c)\n",
    "\n",
    "def merge(l, r, c):\n",
    "    result = []\n",
    "    l.reverse()\n",
    "    r.reverse()\n",
    "    while l and r:\n",
    "        if l[-1] < r[-1]:\n",
    "            s = l\n",
    "        else:\n",
    "            s = r\n",
    "            c[0] += len(l)\n",
    "        result.append(s.pop())\n",
    "    rest = l or r\n",
    "    rest.reverse()\n",
    "    result.extend(rest)\n",
    "\n",
    "def inversions_of_preds(preds, truth):\n",
    "    truth_idx_dict = {k: i for (i, k) in enumerate(truth.sort_values().index)}\n",
    "    pred_lst = [truth_idx_dict[k] for k in preds.sort_values().index]\n",
    "    n_inversions = [0]\n",
    "    merge_sort(pred_lst, n_inversions)\n",
    "    return '{:.3f}'.format(float(n_inversions[0]) / (len(truth)**2/2))\n",
    "\n",
    "def inversions_of_arch(archname, archno, arch_preds, arch_times):\n",
    "    inv_iacas = kind_times_of_arch('iaca', archno)\n",
    "    inv_llvms = kind_times_of_arch('llvm', archno)\n",
    "    inv_preds = arch_preds['pred']\n",
    "    inv_keys = set(inv_iacas.index) & set(inv_llvms.index) & set(inv_preds.index)\n",
    "    for (corrname, corrfun) in (\n",
    "        ('spearman', scipy.stats.spearmanr),\n",
    "        ('pearson', scipy.stats.pearsonr),\n",
    "        ('%inversions', inversions_of_preds),\n",
    "    ):\n",
    "        for (methodname, methoddf) in (\n",
    "            ('IACA', inv_iacas),\n",
    "            ('LLVM', inv_llvms),\n",
    "            ('Ithemal', inv_preds),\n",
    "        ):\n",
    "            print('{} {} {}: {}'.format(\n",
    "                archname,\n",
    "                methodname,\n",
    "                corrname,\n",
    "                corrfun(methoddf.loc[inv_keys], arch_times.loc[inv_keys])\n",
    "            ))\n",
    "inversions_of_arch('Haswell', 1, haswell_preds, haswell_times)\n",
    "# inversions_of_arch('Skylake', 2, skylake_preds, skylake_times)\n",
    "# inversions_of_arch('Nehalem', 3, nehalem_preds, nehalem_times)"
   ]
  },
  {
   "cell_type": "code",
   "execution_count": null,
   "metadata": {},
   "outputs": [],
   "source": [
    "def get_dataset(dataset):\n",
    "    X = np.zeros((len(dataset), 1260), dtype=np.float32)\n",
    "    y = np.empty(len(dataset))\n",
    "    for (idx, d) in enumerate(tqdm.tqdm(dataset)):\n",
    "        y[idx] = d.y\n",
    "        for i in d.block.instrs:\n",
    "            X[idx, i.opcode] += 1\n",
    "    return X, y"
   ]
  },
  {
   "cell_type": "code",
   "execution_count": null,
   "metadata": {},
   "outputs": [],
   "source": [
    "X_train, y_train = get_dataset(data_nehalem.train)\n",
    "lr = sklearn.linear_model.LinearRegression().fit(X_train, y_train)"
   ]
  },
  {
   "cell_type": "code",
   "execution_count": null,
   "metadata": {},
   "outputs": [],
   "source": [
    "X_test, y_test = get_dataset(data_nehalem.test)"
   ]
  },
  {
   "cell_type": "code",
   "execution_count": null,
   "metadata": {},
   "outputs": [],
   "source": []
  },
  {
   "cell_type": "code",
   "execution_count": null,
   "metadata": {},
   "outputs": [],
   "source": [
    "y_pred = lr.predict(X_test)\n",
    "scipy.stats.spearmanr(y_test, y_pred)"
   ]
  },
  {
   "cell_type": "code",
   "execution_count": null,
   "metadata": {},
   "outputs": [],
   "source": [
    "np.mean(np.abs(y_pred - y_test) / y_test)"
   ]
  },
  {
   "cell_type": "code",
   "execution_count": null,
   "metadata": {},
   "outputs": [],
   "source": [
    "inv_iacas = kind_times_of_arch('iaca', 1)\n",
    "inv_llvms = kind_times_of_arch('llvm', 1)\n",
    "inv_preds = haswell_preds['pred']\n",
    "inv_keys = set(inv_iacas.index) & set(inv_llvms.index) & set(inv_preds.index)\n",
    "arch_times = haswell_times.loc[inv_keys]\n",
    "inv_iacas = inv_iacas.loc[inv_keys]\n",
    "inv_llvms = inv_llvms.loc[inv_keys]\n",
    "inv_preds = inv_preds.loc[inv_keys]\n",
    "\n",
    "plt.figure()\n",
    "plt.title('IACA linear correlation')\n",
    "plt.xlabel('Actual')\n",
    "plt.ylabel('IACA Prediction')\n",
    "plt.scatter(arch_times, inv_iacas)\n",
    "m,b = np.polyfit(arch_times, inv_iacas, 1)\n",
    "plt.plot(np.linspace(0, arch_times.max()), np.linspace(0, arch_times.max()) * m + b, '--')\n",
    "plt.show()"
   ]
  },
  {
   "cell_type": "code",
   "execution_count": null,
   "metadata": {},
   "outputs": [],
   "source": [
    "plt.figure()\n",
    "plt.title('LLVM linear correlation')\n",
    "plt.xlabel('Actual')\n",
    "plt.ylabel('LLVM Prediction')\n",
    "plt.scatter(arch_times, inv_llvms)\n",
    "m,b = np.polyfit(arch_times, inv_llvms, 1)\n",
    "plt.plot(np.linspace(0, arch_times.max()), np.linspace(0, arch_times.max()) * m + b, '--')\n",
    "plt.show()"
   ]
  },
  {
   "cell_type": "code",
   "execution_count": null,
   "metadata": {},
   "outputs": [],
   "source": [
    "plt.figure()\n",
    "\n",
    "\n",
    "plt.title('Ithemal linear correlation')\n",
    "plt.xlabel('Actual')\n",
    "plt.ylabel('Ithemal Prediction')\n",
    "plt.scatter(arch_times, inv_preds)\n",
    "m,b = np.polyfit(arch_times, inv_preds, 1)\n",
    "plt.plot(np.linspace(0, arch_times.max()), np.linspace(0, arch_times.max()) * m + b, '--')"
   ]
  },
  {
   "cell_type": "code",
   "execution_count": null,
   "metadata": {},
   "outputs": [],
   "source": [
    "test_set_idxs = set(inv_preds.index) & set(d.code_id for d in data_haswell.test)\n",
    "cdiff = np.abs(inv_preds.loc[test_set_idxs] - arch_times.loc[test_set_idxs])\n",
    "sum(\n",
    "    (cdiff < np.abs(inv_llvms.loc[test_set_idxs] - arch_times.loc[test_set_idxs])) & \n",
    "    (cdiff < np.abs(inv_iacas.loc[test_set_idxs] - arch_times.loc[test_set_idxs]))\n",
    ") / float(len(test_set_idxs))"
   ]
  },
  {
   "cell_type": "code",
   "execution_count": null,
   "metadata": {},
   "outputs": [],
   "source": [
    "time_key = set(haswell_times.index) & set(skylake_times.index) & set(nehalem_times.index)\n",
    "print('haswell -- skylake: {}'.format(scipy.stats.spearmanr(haswell_times.loc[time_key], skylake_times.loc[time_key])))\n",
    "print('skylake -- nehalem: {}'.format(scipy.stats.spearmanr(skylake_times.loc[time_key], nehalem_times.loc[time_key])))\n",
    "print('haswell -- nehalem: {}'.format(scipy.stats.spearmanr(haswell_times.loc[time_key], nehalem_times.loc[time_key])))"
   ]
  },
  {
   "cell_type": "code",
   "execution_count": null,
   "metadata": {},
   "outputs": [],
   "source": [
    "mean_times = times[times['kind'] == 'actual'].groupby('code_id').mean()['time']\n",
    "legal_actual_times = mean_times[(mean_times >= 20) & (mean_times <= 10000)].sort_values()\n",
    "ax = sns.kdeplot(legal_actual_times, shade=True)\n",
    "_ = ax.set_title('Original time PDF')"
   ]
  },
  {
   "cell_type": "code",
   "execution_count": null,
   "metadata": {},
   "outputs": [],
   "source": [
    "log_data = np.log(legal_actual_times)\n",
    "scaler = sklearn.preprocessing.MinMaxScaler((-1, 1))\n",
    "scaled_log_data = scaler.fit_transform(log_data.values.reshape(-1, 1)).reshape(-1)\n",
    "ax = sns.kdeplot(scaled_log_data, shade=True)\n",
    "_ = ax.set_title('Log-Scaled time PDF')"
   ]
  },
  {
   "cell_type": "code",
   "execution_count": null,
   "metadata": {},
   "outputs": [],
   "source": [
    "sklearn.preprocessing.normalize(np.log(legal_actual_times).values.reshape(1, -1)).reshape(-1)"
   ]
  },
  {
   "cell_type": "code",
   "execution_count": null,
   "metadata": {},
   "outputs": [],
   "source": [
    "block_lens = np.array([len(d.block.instrs) for d in data_haswell.data])\n",
    "block_lens.sort()"
   ]
  },
  {
   "cell_type": "code",
   "execution_count": null,
   "metadata": {},
   "outputs": [],
   "source": [
    "iaca_code_ids = set(times[times['kind'] == 'iaca']['code_id'])\n",
    "largest_iaca_block = max((d for d in data_haswell.data if d.code_id in iaca_code_ids), key=lambda d: len(d.block.instrs))"
   ]
  },
  {
   "cell_type": "code",
   "execution_count": null,
   "metadata": {},
   "outputs": [],
   "source": [
    "len(largest_iaca_block.block.instrs)"
   ]
  },
  {
   "cell_type": "code",
   "execution_count": null,
   "metadata": {},
   "outputs": [],
   "source": [
    "sum(1.0 for d in data_haswell.data if d.code_id in iaca_code_ids) / len(data_haswell.data)"
   ]
  },
  {
   "cell_type": "code",
   "execution_count": null,
   "metadata": {},
   "outputs": [],
   "source": [
    "sns.kdeplot(np.log(block_lens), cumulative=True)"
   ]
  },
  {
   "cell_type": "code",
   "execution_count": null,
   "metadata": {},
   "outputs": [],
   "source": [
    "class Mdl(torch.nn.Module):\n",
    "    def __init__(self):\n",
    "        super(Mdl, self).__init__()\n",
    "        self.l0 = torch.nn.Linear(1, 10)\n",
    "        self.l1 = torch.nn.Linear(10, 1)\n",
    "        self.l2 = torch.nn.Linear(10, 1)\n",
    "        \n",
    "    def forward(self, x):\n",
    "        a = self.l0(x)\n",
    "        b = torch.nn.functional.relu(a)\n",
    "        with torch.no_grad():\n",
    "            c = self.l1(b)\n",
    "        d = c + self.l2(z)\n",
    "        return d"
   ]
  },
  {
   "cell_type": "code",
   "execution_count": null,
   "metadata": {},
   "outputs": [],
   "source": [
    "model_parameters = filter(lambda p: p.requires_grad, model.parameters())\n",
    "params = sum([np.prod(p.size()) for p in model_parameters])\n",
    "params"
   ]
  },
  {
   "cell_type": "code",
   "execution_count": null,
   "metadata": {},
   "outputs": [],
   "source": [
    "m = Mdl()\n",
    "o = torch.optim.SGD(m.parameters(), lr=1)\n",
    "o.zero_grad()\n",
    "\n",
    "m(torch.ones(1)).backward()\n",
    "\n",
    "print(m.l2.weight.grad)\n",
    "print(m.l1.weight.grad)\n",
    "print(m.l0.weight.grad)\n",
    "print('')\n",
    "\n",
    "o.zero_grad()\n",
    "print(m.l2.weight.grad)\n",
    "print(m.l1.weight.grad)\n",
    "print(m.l0.weight.grad)\n",
    "print('')\n",
    "\n",
    "z = m.l0(torch.ones(1))\n",
    "with torch.no_grad():\n",
    "    res = m.l1(z)\n",
    "q = res + m.l2(z)\n",
    "q.backward()\n",
    "\n",
    "\n",
    "print(m.l2.weight.grad)\n",
    "print(m.l1.weight.grad)\n",
    "print(m.l0.weight.grad)\n",
    "\n"
   ]
  },
  {
   "cell_type": "code",
   "execution_count": null,
   "metadata": {},
   "outputs": [],
   "source": [
    "iaca_haswell = kind_times_of_arch('iaca', 1)\n",
    "llvm_haswell = kind_times_of_arch('llvm', 1)\n",
    "ks = set(haswell_times.index) & set(haswell_preds['pred'].index) & set(iaca_haswell.index) & set(llvm_haswell.index)"
   ]
  },
  {
   "cell_type": "code",
   "execution_count": null,
   "metadata": {},
   "outputs": [],
   "source": []
  },
  {
   "cell_type": "code",
   "execution_count": null,
   "metadata": {},
   "outputs": [],
   "source": [
    "q = []\n",
    "for i in range(50, 1050, 100):\n",
    "    ks2 = set(haswell_times.loc[ks].loc[haswell_times < i].index)\n",
    "    z = (\n",
    "        (np.abs(haswell_times.loc[ks2] - haswell_preds['pred'].loc[ks2]) < np.abs(haswell_times.loc[ks2] - iaca_haswell.loc[ks2]))\n",
    "        &\n",
    "        (np.abs(haswell_times.loc[ks2] - haswell_preds['pred'].loc[ks2]) < np.abs(haswell_times.loc[ks2] - llvm_haswell.loc[ks2]))\n",
    "    ).sum() / float(len(ks2))\n",
    "    q.append((i, z))"
   ]
  },
  {
   "cell_type": "code",
   "execution_count": null,
   "metadata": {},
   "outputs": [],
   "source": [
    "q"
   ]
  }
 ],
 "metadata": {
  "language_info": {
   "name": "python",
   "pygments_lexer": "ipython3"
  }
 },
 "nbformat": 4,
 "nbformat_minor": 2
}
