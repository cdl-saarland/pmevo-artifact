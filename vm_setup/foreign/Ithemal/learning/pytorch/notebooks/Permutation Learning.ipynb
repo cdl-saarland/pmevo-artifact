{
 "cells": [
  {
   "cell_type": "code",
   "execution_count": null,
   "metadata": {},
   "outputs": [],
   "source": [
    "%matplotlib inline\n",
    "\n",
    "from __future__ import print_function\n",
    "\n",
    "import models.graph_models as md\n",
    "import data.data_cost as dt\n",
    "from matplotlib import pyplot as plt\n",
    "import pandas as pd\n",
    "import numpy as np\n",
    "import torch"
   ]
  },
  {
   "cell_type": "code",
   "execution_count": null,
   "metadata": {},
   "outputs": [],
   "source": [
    "data = dt.load_dataset('../saved/data_040519.data.sample1000')"
   ]
  },
  {
   "cell_type": "code",
   "execution_count": null,
   "metadata": {},
   "outputs": [],
   "source": [
    "params = md.RnnParameters(256, 256, 1, False, False, False, md.RnnHierarchyType.MULTISCALE, md.RnnType.LSTM)\n",
    "model = md.RNN(params)\n",
    "model.set_learnable_embedding('none', 628)\n",
    "state_dict = torch.load('../saved/040519_lstm_decay_trained.mdl')\n",
    "model.load_state_dict(state_dict['model'])"
   ]
  },
  {
   "cell_type": "code",
   "execution_count": null,
   "metadata": {},
   "outputs": [],
   "source": [
    "def get_embedding(instr_x):\n",
    "    token_state = model.get_token_init()\n",
    "    tokens = model.final_embeddings(torch.LongTensor(instr_x)).unsqueeze(1)\n",
    "    _, (output, _) = model.token_rnn(tokens, token_state)\n",
    "    return output.squeeze()\n",
    "\n",
    "def predict(X):\n",
    "    token_embeddings = list(map(get_embedding, X))\n",
    "    instr_chain = torch.stack(token_embeddings).unsqueeze(1)\n",
    "    # TODO: permute embeddings?\n",
    "    _, (final_state, _) = model.instr_rnn(instr_chain, model.get_instr_init())\n",
    "    return model.linear(final_state.squeeze()).squeeze()"
   ]
  },
  {
   "cell_type": "code",
   "execution_count": null,
   "metadata": {},
   "outputs": [],
   "source": [
    "def adj_mtx_of_block(block):\n",
    "    idxmap = {instr: i for (i, instr) in enumerate(block.instrs)}\n",
    "    m = np.zeros((len(idxmap), len(idxmap)), dtype=np.float32)\n",
    "    for (i, instr) in enumerate(block.instrs):\n",
    "        for ch in instr.children:\n",
    "            m[i, idxmap[ch]] = 1\n",
    "    return m"
   ]
  },
  {
   "cell_type": "code",
   "execution_count": null,
   "metadata": {},
   "outputs": [],
   "source": [
    "print('Block\\n{}'.format('='*40))\n",
    "print('\\n'.join(instr.intel for instr in data.data[0].block.instrs))\n",
    "print('\\nDependency matrix\\n{}'.format('='*40))\n",
    "print(adj_mtx_of_block(data.data[0].block))\n",
    "print('\\nPredicted runtime\\n{}'.format('='*40))\n",
    "print('Predicted time: {}'.format(predict(data.data[0].x).item()))\n",
    "print('\\nDAG\\n{}'.format('='*40))\n",
    "data.data[0].block.draw()"
   ]
  }
 ],
 "metadata": {
  "language_info": {
   "name": "python",
   "pygments_lexer": "ipython3"
  }
 },
 "nbformat": 4,
 "nbformat_minor": 2
}
