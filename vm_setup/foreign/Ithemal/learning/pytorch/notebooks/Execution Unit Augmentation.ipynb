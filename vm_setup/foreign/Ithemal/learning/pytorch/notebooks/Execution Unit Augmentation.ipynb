{
 "cells": [
  {
   "cell_type": "code",
   "execution_count": null,
   "metadata": {},
   "outputs": [],
   "source": [
    "import common_libs.utilities as ut\n",
    "import pandas as pd\n",
    "import os\n",
    "import sys\n",
    "sys.path.append(os.pardir)\n",
    "import data.data_cost as dt"
   ]
  },
  {
   "cell_type": "code",
   "execution_count": null,
   "metadata": {},
   "outputs": [],
   "source": [
    "import imp; imp.reload(ut); imp.reload(dt)"
   ]
  },
  {
   "cell_type": "code",
   "execution_count": null,
   "metadata": {},
   "outputs": [],
   "source": [
    "data = dt.load_dataset('../inputs/embeddings/code_delim.emb', arch=2, data_savefile='../inputs/data/time_skylake_test.data')"
   ]
  },
  {
   "cell_type": "code",
   "execution_count": null,
   "metadata": {},
   "outputs": [],
   "source": [
    "def str_of_instrs(instrs):\n",
    "    return '\\n'.join(map(str, instrs))\n",
    "\n",
    "def print_generated_perms_of_block_index(idx):\n",
    "    all_instrs = ut.generate_duplicates(data.data[idx].block.instrs, 100)\n",
    "    for instrs in all_instrs:\n",
    "        print(str_of_instrs(instrs))\n",
    "        print('\\n\\n\\n')"
   ]
  },
  {
   "cell_type": "code",
   "execution_count": null,
   "metadata": {},
   "outputs": [],
   "source": [
    "print_generated_perms_of_block_index(2)"
   ]
  }
 ],
 "metadata": {
  "language_info": {
   "name": "python",
   "pygments_lexer": "ipython3"
  }
 },
 "nbformat": 4,
 "nbformat_minor": 2
}
