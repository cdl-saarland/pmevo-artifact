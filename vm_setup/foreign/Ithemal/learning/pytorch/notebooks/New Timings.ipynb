{
 "cells": [
  {
   "cell_type": "code",
   "execution_count": null,
   "metadata": {},
   "outputs": [],
   "source": [
    "%matplotlib inline\n",
    "\n",
    "from __future__ import print_function\n",
    "\n",
    "import pandas as pd\n",
    "import numpy as np\n",
    "import common_libs.utilities as ut\n",
    "import matplotlib.pyplot as plt\n",
    "import torch\n",
    "import scipy.optimize as opt\n",
    "import random\n",
    "import re\n",
    "import cvxopt"
   ]
  },
  {
   "cell_type": "code",
   "execution_count": null,
   "metadata": {},
   "outputs": [],
   "source": [
    "t = pd.read_sql('SELECT * FROM time JOIN time_metadata ON time.time_id=time_metadata.time_id WHERE kind_id=1 ORDER BY RAND() LIMIT 999999999', ut.create_connection()).set_index('time_id')"
   ]
  },
  {
   "cell_type": "code",
   "execution_count": null,
   "metadata": {},
   "outputs": [],
   "source": [
    "good_times = t[(t['l1drmisses'] <= 0) & (t['l1dwmisses'] <= 0) & (t['l1imisses'] <= 0) & (t['conswitch'] <= 0)]"
   ]
  },
  {
   "cell_type": "code",
   "execution_count": null,
   "metadata": {},
   "outputs": [],
   "source": [
    "def percentile(k):\n",
    "    return lambda a: np.percentile(a, k)"
   ]
  },
  {
   "cell_type": "code",
   "execution_count": null,
   "metadata": {},
   "outputs": [],
   "source": [
    "summaries = good_times.groupby('code_id').agg({'code_id': 'count', 'cycle_count': percentile(20)})"
   ]
  },
  {
   "cell_type": "code",
   "execution_count": null,
   "metadata": {},
   "outputs": [],
   "source": [
    "true_cycles = summaries[summaries['code_id'] > 1]['cycle_count']"
   ]
  },
  {
   "cell_type": "code",
   "execution_count": null,
   "metadata": {},
   "outputs": [],
   "source": [
    "true_cycles = true_cycles.drop(4, axis=0)"
   ]
  },
  {
   "cell_type": "code",
   "execution_count": null,
   "metadata": {},
   "outputs": [],
   "source": [
    "data = torch.load('../saved/data_040519.data')\n",
    "test_code_ids = set([d[0] for d in data[int(len(data)*.8):]])"
   ]
  },
  {
   "cell_type": "code",
   "execution_count": null,
   "metadata": {},
   "outputs": [],
   "source": [
    "t_intel = pd.read_sql('SELECT * FROM time WHERE kind_id=2', ut.create_connection()).groupby('code_id').mean()['cycle_count']\n",
    "err = ((true_cycles - t_intel).abs() / true_cycles).dropna()\n",
    "test_err = ((true_cycles - t_intel[t_intel.index.isin(test_code_ids)]).abs() / true_cycles).dropna()\n",
    "print('Intel: {}/{} ({:.0f}%) blocks\\nAverage error {}\\n{}/{} ({:.0f}%) test blocks\\nAverage error {}'.format(\n",
    "    len(err), len(true_cycles.dropna()), 100 * (float(len(err)) / len(true_cycles.dropna())),\n",
    "    err.mean(),\n",
    "    len(test_err), len(test_code_ids), 100 * (float(len(test_err)) / len(test_code_ids)),\n",
    "    test_err.mean()\n",
    "))"
   ]
  },
  {
   "cell_type": "code",
   "execution_count": null,
   "metadata": {},
   "outputs": [],
   "source": [
    "t_llvm = pd.read_sql('SELECT * FROM time WHERE kind_id=3', ut.create_connection()).groupby('code_id').mean()['cycle_count']\n",
    "err = ((true_cycles - t_llvm).abs() / true_cycles).dropna()\n",
    "test_err = ((true_cycles - t_llvm[t_llvm.index.isin(test_code_ids)]).abs() / true_cycles).dropna()\n",
    "print('LLVM: {}/{} ({:.0f}%) blocks\\nAverage error {}\\n{}/{} ({:.0f}%) test blocks\\nAverage error {}'.format(\n",
    "    len(err), len(true_cycles.dropna()), 100 * (float(len(err)) / len(true_cycles.dropna())),\n",
    "    err.mean(),\n",
    "    len(test_err), len(test_code_ids), 100 * (float(len(test_err)) / len(test_code_ids)),\n",
    "    test_err.mean()\n",
    "))"
   ]
  },
  {
   "cell_type": "code",
   "execution_count": null,
   "metadata": {},
   "outputs": [],
   "source": [
    "xs = np.linspace(1, 200, 200)\n",
    "ys = [((true_cycles - x).abs() / true_cycles).mean() for x in xs]"
   ]
  },
  {
   "cell_type": "code",
   "execution_count": null,
   "metadata": {},
   "outputs": [],
   "source": [
    "plt.plot(xs, ys)\n",
    "plt.xlabel('Constant value prediction')\n",
    "plt.ylabel('Error')\n",
    "plt.title('Constant Prediction Baseline')\n",
    "plt.show()"
   ]
  },
  {
   "cell_type": "code",
   "execution_count": null,
   "metadata": {},
   "outputs": [],
   "source": [
    "code = pd.read_sql('SELECT DISTINCT(code.code_id), code_ir FROM code INNER JOIN time ON code.code_id=time.code_id WHERE LENGTH(code_raw) > 0', ut.create_connection()).set_index('code_id')"
   ]
  },
  {
   "cell_type": "code",
   "execution_count": null,
   "metadata": {},
   "outputs": [],
   "source": [
    "instrs = code['code_ir'].apply(re.compile('<opcode>(\\d+)</opcode>').findall)\n",
    "instrs = pd.DataFrame(instrs).join(true_cycles, how='inner')"
   ]
  },
  {
   "cell_type": "code",
   "execution_count": null,
   "metadata": {},
   "outputs": [],
   "source": [
    "d = {}\n",
    "instr_tuples = []\n",
    "for (_, r) in instrs.iterrows():\n",
    "    opcs = []\n",
    "    for op in r['code_ir']:\n",
    "        if op not in d:\n",
    "            d[op] = len(d)\n",
    "        opcs.append(d[op])\n",
    "    instr_tuples.append((opcs, r['cycle_count']))"
   ]
  },
  {
   "cell_type": "code",
   "execution_count": null,
   "metadata": {},
   "outputs": [],
   "source": [
    "d_rev = {v:k for (k, v) in d.items()}"
   ]
  },
  {
   "cell_type": "code",
   "execution_count": null,
   "metadata": {},
   "outputs": [],
   "source": [
    "idx_to_mapping = {}\n",
    "_re = re.compile(r'^/\\*\\s*(\\d+)\\s*\\*/\\s*OP_(.*?),.*$')\n",
    "with open('/home/ithemal/ithemal/common/inputs/encoding.h') as f:\n",
    "    for l in f.readlines():\n",
    "        match = _re.match(l)\n",
    "        if match is None:\n",
    "            continue\n",
    "        idx_to_mapping[int(match.group(1))] = match.group(2)\n",
    "def get_opc_of_w_idx(idx):\n",
    "    return idx_to_mapping[int(d_rev[idx]) - 162 + 4]"
   ]
  },
  {
   "cell_type": "code",
   "execution_count": null,
   "metadata": {},
   "outputs": [],
   "source": [
    "arr = np.zeros((len(instr_tuples), len(d)), dtype=np.int)\n",
    "for i, (opcs, _) in enumerate(instr_tuples):\n",
    "    for opc in opcs:\n",
    "        arr[i, opc] += 1\n",
    "cost_ys = np.array([time for (_, time) in instr_tuples])\n",
    "arr_mask = (arr > 0).astype(np.float32)"
   ]
  },
  {
   "cell_type": "code",
   "execution_count": null,
   "metadata": {},
   "outputs": [],
   "source": [
    "import cvxpy as cp\n",
    "subset = random.sample(range(len(cost_ys)), min(len(cost_ys), len(cost_ys)))\n",
    "w = cp.Variable(len(d))\n",
    "preds = arr[subset] * w\n",
    "errors = cp.abs(preds - cost_ys[subset]) / cost_ys[subset]\n",
    "expr = cp.sum(errors) / len(subset)\n",
    "prob = cp.Problem(cp.Minimize(expr), [w >= 0])"
   ]
  },
  {
   "cell_type": "code",
   "execution_count": null,
   "metadata": {},
   "outputs": [],
   "source": [
    "w.value = np.zeros(len(d)) + 35"
   ]
  },
  {
   "cell_type": "code",
   "execution_count": null,
   "metadata": {},
   "outputs": [],
   "source": [
    "%time prob.solve(solver='SCS', verbose=True, warm_start=True)"
   ]
  },
  {
   "cell_type": "code",
   "execution_count": null,
   "metadata": {},
   "outputs": [],
   "source": [
    "{get_opc_of_w_idx(i): int(w.value[i]) for i in range(len(d))}"
   ]
  },
  {
   "cell_type": "code",
   "execution_count": null,
   "metadata": {},
   "outputs": [],
   "source": [
    "prob._find_candidate_solvers()"
   ]
  },
  {
   "cell_type": "code",
   "execution_count": null,
   "metadata": {},
   "outputs": [],
   "source": [
    "import cvxopt.modeling\n",
    "w = cvxopt.modeling.variable(len(d))\n",
    "cys = cvxopt.matrix(cost_ys[subset])\n",
    "preds = cvxopt.matrix(arr[subset], tc='d') * w\n",
    "errors = [abs(preds - cys)[i] / cys[i] for i in range(len(subset))]\n",
    "expr = sum(errors) / len(errors)"
   ]
  },
  {
   "cell_type": "code",
   "execution_count": null,
   "metadata": {},
   "outputs": [],
   "source": [
    "pr"
   ]
  },
  {
   "cell_type": "code",
   "execution_count": null,
   "metadata": {},
   "outputs": [],
   "source": [
    "def F(x=None, z=None):\n",
    "    if x is None and z is None: return (len(d), np.zeros((len(d), 1)) + 33)\n",
    "    if z is None:\n",
    "        "
   ]
  },
  {
   "cell_type": "code",
   "execution_count": null,
   "metadata": {},
   "outputs": [],
   "source": [
    "prob = cvxopt.modeling.op(expr, [w >= 0])"
   ]
  },
  {
   "cell_type": "code",
   "execution_count": null,
   "metadata": {},
   "outputs": [],
   "source": [
    "prob.solve()"
   ]
  },
  {
   "cell_type": "code",
   "execution_count": null,
   "metadata": {},
   "outputs": [],
   "source": [
    "expr.value()[0]"
   ]
  },
  {
   "cell_type": "code",
   "execution_count": null,
   "metadata": {},
   "outputs": [],
   "source": [
    "errors[5].value()[0]"
   ]
  },
  {
   "cell_type": "code",
   "execution_count": null,
   "metadata": {},
   "outputs": [],
   "source": [
    "{get_opc_of_w_idx(i): w.value[i] for i in range(len(d))}"
   ]
  },
  {
   "cell_type": "code",
   "execution_count": null,
   "metadata": {},
   "outputs": [],
   "source": [
    "instrs"
   ]
  },
  {
   "cell_type": "code",
   "execution_count": null,
   "metadata": {},
   "outputs": [],
   "source": [
    "sorted(list(map(int, d.keys())))"
   ]
  },
  {
   "cell_type": "code",
   "execution_count": null,
   "metadata": {},
   "outputs": [],
   "source": [
    "class LinearModel(torch.nn.Module):\n",
    "    def __init__(self, arr_xs, arr_mask, cost_ys):\n",
    "        super(LinearModel, self).__init__()\n",
    "        self.instr_costs = torch.nn.Parameter(torch.zeros(len(d) + 1, requires_grad=True) + 33)\n",
    "        self.arr_xs = arr_xs\n",
    "        self.arr_mask = arr_mask\n",
    "        self.cost_ys = cost_ys\n",
    "\n",
    "    def forward(self, idxs):\n",
    "        xs = self.arr_xs[idxs]\n",
    "        mask = self.arr_mask[idxs]\n",
    "        ys = self.cost_ys[idxs]\n",
    "        instr_costs = self.instr_costs[[xs]] * mask\n",
    "        return torch.mean(torch.abs(instr_costs.sum(dim=1) - ys) / ys)"
   ]
  },
  {
   "cell_type": "code",
   "execution_count": null,
   "metadata": {},
   "outputs": [],
   "source": [
    "lm = LinearModel(arr, arr_mask, cost_ys)\n",
    "lm(idxs)"
   ]
  },
  {
   "cell_type": "code",
   "execution_count": null,
   "metadata": {},
   "outputs": [],
   "source": [
    "idxs = list(range(len(cost_ys)))\n",
    "\n",
    "def run_epoch(optimizer):\n",
    "    random.shuffle(idxs)\n",
    "    bsize = 1000\n",
    "    for bidx in range(0, len(idxs) // bsize):\n",
    "        optimizer.zero_grad()\n",
    "        loss = lm(idxs[bidx*bsize:(bidx+1)*bsize])\n",
    "        loss.backward()\n",
    "        optimizer.step()"
   ]
  },
  {
   "cell_type": "code",
   "execution_count": null,
   "metadata": {},
   "outputs": [],
   "source": [
    "lm_opt = torch.optim.Adam(lm.parameters(), lr=3e-2)"
   ]
  },
  {
   "cell_type": "code",
   "execution_count": null,
   "metadata": {},
   "outputs": [],
   "source": [
    "for i in range(100):\n",
    "    print('Epoch {}'.format(i + 1))\n",
    "    run_epoch(lm_opt)\n",
    "    if i % 5 == 0:\n",
    "        print('Loss: {}'.format(lm(idxs).item()))"
   ]
  },
  {
   "cell_type": "code",
   "execution_count": null,
   "metadata": {},
   "outputs": [],
   "source": [
    "lm(idxs)"
   ]
  },
  {
   "cell_type": "code",
   "execution_count": null,
   "metadata": {},
   "outputs": [],
   "source": [
    "{k: lm.instr_costs[v] for (k, v) in d.items()}"
   ]
  },
  {
   "cell_type": "code",
   "execution_count": null,
   "metadata": {},
   "outputs": [],
   "source": [
    "def cost(xs):\n",
    "    return np.mean(np.abs(xs[arr].sum(axis=1) - cost_ys) / cost_ys)"
   ]
  },
  {
   "cell_type": "code",
   "execution_count": null,
   "metadata": {},
   "outputs": [],
   "source": [
    "xs = np.linspace(30, 42, 13)\n",
    "ys = [cost(np.array([0] + list(np.zeros(len(d)) + x))) for x in xs]\n",
    "\n",
    "plt.plot(xs, ys)\n",
    "plt.xlabel('Cycles per instruction')\n",
    "plt.ylabel('Error')\n",
    "plt.title('Constant Linear Baseline')\n",
    "plt.show()"
   ]
  },
  {
   "cell_type": "code",
   "execution_count": null,
   "metadata": {},
   "outputs": [],
   "source": [
    "init = [0] + list(np.zeros(len(d)) + 37)\n",
    "bounds = [(0, 0)] + [(0, 10000) for _ in range(len(d))]"
   ]
  },
  {
   "cell_type": "code",
   "execution_count": null,
   "metadata": {},
   "outputs": [],
   "source": [
    "res = opt.minimize(cost, init, bounds=bounds)"
   ]
  },
  {
   "cell_type": "code",
   "execution_count": null,
   "metadata": {},
   "outputs": [],
   "source": [
    "cost(res.x)"
   ]
  },
  {
   "cell_type": "code",
   "execution_count": null,
   "metadata": {},
   "outputs": [],
   "source": [
    "res"
   ]
  },
  {
   "cell_type": "code",
   "execution_count": null,
   "metadata": {},
   "outputs": [],
   "source": [
    "fake_xs = [1] * 32 + [2] * 16 + [8] * 2\n",
    "fake_ys = [8] * 32 + [8] * 16 + [2] * 2\n",
    "def foo(w):\n",
    "    return sum(abs(w*x - y) / float(y) for (x, y) in zip(fake_xs, fake_ys))\n",
    "foo_vec = np.vectorize(foo)\n",
    "\n",
    "z = np.linspace(-5, 10, 100)\n",
    "plt.plot(z, foo_vec(z))"
   ]
  },
  {
   "cell_type": "code",
   "execution_count": null,
   "metadata": {},
   "outputs": [],
   "source": [
    "import cvxopt"
   ]
  },
  {
   "cell_type": "code",
   "execution_count": null,
   "metadata": {},
   "outputs": [],
   "source": [
    "arr"
   ]
  }
 ],
 "metadata": {
  "language_info": {
   "name": "python",
   "pygments_lexer": "ipython3"
  }
 },
 "nbformat": 4,
 "nbformat_minor": 2
}
