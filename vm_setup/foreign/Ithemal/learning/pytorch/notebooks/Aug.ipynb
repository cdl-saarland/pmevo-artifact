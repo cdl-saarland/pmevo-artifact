{
 "cells": [
  {
   "cell_type": "code",
   "execution_count": null,
   "metadata": {},
   "outputs": [],
   "source": [
    "import os\n",
    "import sys\n",
    "sys.path.append(os.pardir)"
   ]
  },
  {
   "cell_type": "code",
   "execution_count": null,
   "metadata": {},
   "outputs": [],
   "source": [
    "%matplotlib inline\n",
    "\n",
    "import common_libs.utilities as ut\n",
    "import data.data_cost as dt\n",
    "import models.graph_models as md\n",
    "\n",
    "import pandas as pd\n",
    "from matplotlib import pyplot as plt\n",
    "import torch"
   ]
  },
  {
   "cell_type": "code",
   "execution_count": null,
   "metadata": {},
   "outputs": [],
   "source": [
    "cnx = ut.create_connection()"
   ]
  },
  {
   "cell_type": "code",
   "execution_count": null,
   "metadata": {},
   "outputs": [],
   "source": [
    "times = pd.read_sql('SELECT * FROM aug_times', cnx).set_index('time_id')\n",
    "augs = pd.read_sql('SELECT aug_id, code_id FROM functional_unit_augmentation', cnx).set_index('aug_id')"
   ]
  },
  {
   "cell_type": "code",
   "execution_count": null,
   "metadata": {},
   "outputs": [],
   "source": [
    "word2id = torch.load('../inputs/embeddings/code_delim.emb')[1]\n",
    "\n",
    "def get_data_item(code_token):\n",
    "    tokens = list(map(int, code_token.split(',')))\n",
    "    tokens_it = iter(tokens)\n",
    "    instrs = []\n",
    "    xs = []\n",
    "    while True:\n",
    "        x = []\n",
    "        try:\n",
    "            opcode = int(next(tokens_it))\n",
    "            x.append(opcode)\n",
    "        except StopIteration:\n",
    "            break\n",
    "        assert next(tokens_it) == -1\n",
    "        x.append(-1)\n",
    "        srcs = []\n",
    "        while True:\n",
    "            src = int(next(tokens_it))\n",
    "            x.append(src)\n",
    "            if src == -1:\n",
    "                break\n",
    "            else:\n",
    "                srcs.append(src)\n",
    "        dsts = []\n",
    "        while True:\n",
    "            dst = int(next(tokens_it))\n",
    "            x.append(dst)\n",
    "            if dst == -1:\n",
    "                break\n",
    "            else:\n",
    "                dsts.append(dst)\n",
    "        instrs.append(ut.Instruction(opcode, srcs, dsts, 1))\n",
    "        xs.append(list(map(lambda z: word2id.get(z, 0), x)))\n",
    "    return dt.DataItem(xs, 0, ut.BasicBlock(instrs))"
   ]
  },
  {
   "cell_type": "code",
   "execution_count": null,
   "metadata": {},
   "outputs": [],
   "source": [
    "graph = md.GraphNN(embedding_size=256, hidden_size=256, num_classes=1, use_residual=True)\n",
    "graph.set_learnable_embedding(mode='none', dictsize=1337)\n",
    "graph.load_state_dict(torch.load('../saved/trained_4x4.mdl')['model'])\n",
    "\n",
    "def plot_times_of_code_id(code_id):\n",
    "    plt.figure()\n",
    "    t = times[(times['code_id'] == code_id) & (times['time'] > 0)]['time']\n",
    "    plt.title('DATA: functional Unit Augmentation: code_id={}'.format(code_id))\n",
    "    plt.xlabel('Repetitions')\n",
    "    plt.ylabel('Actual execution time')\n",
    "    plt.scatter(range(len(t)), t)\n",
    "\n",
    "def plot_preds_of_code_id(code_id):\n",
    "    plt.figure()\n",
    "    cnx = ut.create_connection()\n",
    "    codes = pd.read_sql('SELECT code_token FROM functional_unit_augmentation WHERE code_id={}'.format(code_id), cnx)\n",
    "    t = [graph(get_data_item(codes.iloc[i].code_token)).item() for i in range(len(codes))]\n",
    "    plt.title('PREDICTION: functional Unit Augmentation: code_id={}'.format(code_id))\n",
    "    plt.xlabel('Repetitions')\n",
    "    plt.ylabel('Predicted execution time')\n",
    "    plt.scatter(range(len(t)), t)"
   ]
  },
  {
   "cell_type": "code",
   "execution_count": null,
   "metadata": {},
   "outputs": [],
   "source": [
    "interesting_idxs = [468404, 470781, 470762, 469803, 931799, 931801, 931803, 467076, 467731]\n",
    "interesting_idx = interesting_idxs[5]"
   ]
  },
  {
   "cell_type": "code",
   "execution_count": null,
   "metadata": {},
   "outputs": [],
   "source": [
    "plot_times_of_code_id(interesting_idx)\n",
    "plot_preds_of_code_id(interesting_idx)"
   ]
  },
  {
   "cell_type": "code",
   "execution_count": null,
   "metadata": {},
   "outputs": [],
   "source": [
    "other_idxs = times[times['time'] > 0].groupby('code_id').count().sort_values('arch', ascending=False).index\n",
    "print(other_idxs)"
   ]
  },
  {
   "cell_type": "code",
   "execution_count": null,
   "metadata": {},
   "outputs": [],
   "source": [
    "res = pd.read_sql('SELECT code_intel FROM functional_unit_augmentation WHERE code_id={}'.format(single_good_idx), cnx)\n",
    "for (_, i) in res.iterrows():\n",
    "    print(i['code_intel'])\n",
    "    print('-'*80)"
   ]
  },
  {
   "cell_type": "code",
   "execution_count": null,
   "metadata": {},
   "outputs": [],
   "source": [
    "idx_iter = iter(idxs)"
   ]
  },
  {
   "cell_type": "code",
   "execution_count": null,
   "metadata": {},
   "outputs": [],
   "source": [
    "i = next(idx_iter)\n",
    "print(i)\n",
    "plt.title('code_id: {}'.format(i))\n",
    "plot_times_of_code_id(i)"
   ]
  },
  {
   "cell_type": "code",
   "execution_count": null,
   "metadata": {},
   "outputs": [],
   "source": [
    "res = pd.read_sql('SELECT code_intel, code_token FROM functional_unit_augmentation WHERE code_id={}'.format(i), cnx)\n",
    "print(list(res.iterrows())[-1][1]['code_intel'])"
   ]
  },
  {
   "cell_type": "code",
   "execution_count": null,
   "metadata": {},
   "outputs": [],
   "source": []
  },
  {
   "cell_type": "code",
   "execution_count": null,
   "metadata": {},
   "outputs": [],
   "source": [
    "graph(get_data_item(res.iloc[0].code_token))"
   ]
  },
  {
   "cell_type": "code",
   "execution_count": null,
   "metadata": {},
   "outputs": [],
   "source": [
    "data = dt.load_dataset('../inputs/embeddings/code_delim.emb', '../saved/time_skylake_test.data')"
   ]
  },
  {
   "cell_type": "code",
   "execution_count": null,
   "metadata": {},
   "outputs": [],
   "source": [
    "print(data.data[1].x[2])\n",
    "print(list(map(word2id.get, [-1])))\n",
    "\n",
    "# for i in data.data[1].block.instrs:\n",
    "#     print(i)"
   ]
  },
  {
   "cell_type": "code",
   "execution_count": null,
   "metadata": {},
   "outputs": [],
   "source": [
    "data = dt.DataInstructionEmbedding()\n",
    "data.raw_data = raw_data"
   ]
  },
  {
   "cell_type": "code",
   "execution_count": null,
   "metadata": {},
   "outputs": [],
   "source": [
    "data.set_embedding('../inputs/embeddings/code_delim.emb')\n",
    "data.read_meta_data()\n",
    "data.prepare_data()"
   ]
  },
  {
   "cell_type": "code",
   "execution_count": null,
   "metadata": {},
   "outputs": [],
   "source": [
    "data.raw_data"
   ]
  },
  {
   "cell_type": "code",
   "execution_count": null,
   "metadata": {},
   "outputs": [],
   "source": [
    "data.get_timing_data(cnx, 1)"
   ]
  }
 ],
 "metadata": {
  "language_info": {
   "name": "python",
   "pygments_lexer": "ipython3"
  }
 },
 "nbformat": 4,
 "nbformat_minor": 2
}
