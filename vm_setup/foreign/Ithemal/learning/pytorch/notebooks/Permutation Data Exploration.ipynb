{
 "cells": [
  {
   "cell_type": "code",
   "execution_count": null,
   "metadata": {},
   "outputs": [],
   "source": [
    "%matplotlib inline\n",
    "\n",
    "import common_libs.utilities as ut\n",
    "import pandas as pd\n",
    "import scipy.special\n",
    "import matplotlib.pyplot as plt\n",
    "import numpy as np\n",
    "import seaborn as sns"
   ]
  },
  {
   "cell_type": "code",
   "execution_count": null,
   "metadata": {},
   "outputs": [],
   "source": [
    "cnx = ut.create_connection()"
   ]
  },
  {
   "cell_type": "code",
   "execution_count": null,
   "metadata": {},
   "outputs": [],
   "source": [
    "times = pd.read_sql('SELECT time_id, code_id, time FROM deep_perm_times', cnx).set_index('time_id')\n",
    "perms = pd.read_sql('SELECT perm_id, code_id, code_intel FROM deep_perms', cnx).set_index('perm_id')"
   ]
  },
  {
   "cell_type": "code",
   "execution_count": null,
   "metadata": {},
   "outputs": [],
   "source": [
    "def get_stats(time_df):\n",
    "    stats = time_df.groupby('code_id').agg({'time': ['median', 'mean', 'std', 'count']})\n",
    "    stats = stats['time'].loc[time_df['code_id']]\n",
    "    stats['time_id'] = time_df.index\n",
    "    return stats.set_index('time_id')"
   ]
  },
  {
   "cell_type": "code",
   "execution_count": null,
   "metadata": {},
   "outputs": [],
   "source": [
    "stats = get_stats(times)\n",
    "real_times = times[((times['time'] - stats['median']) / stats['std']).abs() < 2]\n",
    "real_stats = get_stats(real_times)\n",
    "time_diffs = (real_times['time'] - real_stats['mean'])\n",
    "z_scores = time_diffs / real_stats['std']"
   ]
  },
  {
   "cell_type": "code",
   "execution_count": null,
   "metadata": {},
   "outputs": [],
   "source": [
    "plt.title('Time variability distribution plot -- absolute cycle count')\n",
    "sns.distplot(time_diffs.dropna().values)"
   ]
  },
  {
   "cell_type": "code",
   "execution_count": null,
   "metadata": {},
   "outputs": [],
   "source": [
    "plt.title('Time variability distribution plot -- Z score')\n",
    "sns.distplot(z_scores.dropna().values)"
   ]
  },
  {
   "cell_type": "code",
   "execution_count": null,
   "metadata": {},
   "outputs": [],
   "source": [
    "grouped_stats = times.groupby('code_id').agg({'time': ['median', 'mean', 'std', 'count']})\n",
    "grouped_real_stats = real_times.groupby('code_id').agg({'time': ['median', 'mean', 'std', 'count']})\n",
    "\n",
    "def print_times_of_code_id(code_id):\n",
    "    print('Basic block')\n",
    "    print('-' * 80)\n",
    "    print(perms[perms['code_id'] == code_id]['code_intel'].iloc[0])\n",
    "    print('\\nFull Stats')\n",
    "    print('-' * 80)\n",
    "    print(grouped_stats.loc[code_id])\n",
    "    print('\\nOutlier-pruned Stats')\n",
    "    print('-' * 80)\n",
    "    print(grouped_real_stats.loc[code_id])\n",
    "    print('\\nTimes')\n",
    "    print('-' * 80)\n",
    "    print(times[times['code_id'] == code_id].sort_values('time')['time'])\n",
    "\n",
    "most_variable_code_id_idx = 1\n",
    "most_variable_code_ids = times.loc[z_scores.abs().sort_values(ascending=False).index]['code_id']\n",
    "print_times_of_code_id(most_variable_code_ids.iloc[most_variable_code_id_idx])"
   ]
  },
  {
   "cell_type": "code",
   "execution_count": null,
   "metadata": {},
   "outputs": [],
   "source": []
  },
  {
   "cell_type": "code",
   "execution_count": null,
   "metadata": {},
   "outputs": [],
   "source": []
  },
  {
   "cell_type": "code",
   "execution_count": null,
   "metadata": {},
   "outputs": [],
   "source": [
    "sns.distplot(z_scores.dropna().values)"
   ]
  },
  {
   "cell_type": "code",
   "execution_count": null,
   "metadata": {},
   "outputs": [],
   "source": [
    "z_scores = real"
   ]
  },
  {
   "cell_type": "code",
   "execution_count": null,
   "metadata": {},
   "outputs": [],
   "source": [
    "times[(times['time'] - medians) / stds]"
   ]
  },
  {
   "cell_type": "code",
   "execution_count": null,
   "metadata": {},
   "outputs": [],
   "source": []
  },
  {
   "cell_type": "code",
   "execution_count": null,
   "metadata": {},
   "outputs": [],
   "source": [
    "perms = pd.read_sql('SELECT code_id, count(1) as n_perms FROM perms GROUP BY code_id', cnx).set_index('code_id')\n",
    "code = pd.read_sql('SELECT code_id, (LENGTH(code_intel) - LENGTH(REPLACE(code_intel, \"\\n\", \"\"))) as n_instrs FROM code', cnx).set_index('code_id')"
   ]
  },
  {
   "cell_type": "code",
   "execution_count": null,
   "metadata": {},
   "outputs": [],
   "source": [
    "joined = perms.join(code, how='inner')\n",
    "utilization = joined['n_perms'] / joined['n_instrs'].apply(scipy.special.factorial)"
   ]
  },
  {
   "cell_type": "code",
   "execution_count": null,
   "metadata": {},
   "outputs": [],
   "source": [
    "hist, bins = np.histogram(utilization)\n",
    "hist = hist.astype(np.float32) / hist.sum()\n",
    "width = 0.9 * (bins[1] - bins[0])\n",
    "center = (bins[:-1] + bins[1:]) / 2\n",
    "plt.bar(center, hist, align='center', width=width)\n",
    "plt.title('Parallel permutation utilization distribution')\n",
    "plt.xlabel(r'Ratio of utilization $\\left(\\frac{\\#\\it{permutations}}{\\#\\it{instructions}!}\\right)$', fontsize=18)\n",
    "plt.ylabel('Percentage of examples in random sample')\n",
    "plt.show()"
   ]
  },
  {
   "cell_type": "code",
   "execution_count": null,
   "metadata": {},
   "outputs": [],
   "source": [
    "times = pd.read_sql('SELECT time_id, code_id, time FROM times WHERE kind=\"actual\" AND arch=1', cnx).set_index(['code_id', 'time_id'])"
   ]
  },
  {
   "cell_type": "code",
   "execution_count": null,
   "metadata": {},
   "outputs": [],
   "source": [
    "time_agg = times.groupby('code_id').agg({'time': ['mean', 'std']})\n",
    "time_agg['std/mean'] = time_agg['time']['std'] / time_agg['time']['mean']\n",
    "time_agg.sort_values('std/mean', ascending=False)"
   ]
  },
  {
   "cell_type": "code",
   "execution_count": null,
   "metadata": {},
   "outputs": [],
   "source": [
    "times.sort_values(times.index)"
   ]
  },
  {
   "cell_type": "code",
   "execution_count": null,
   "metadata": {},
   "outputs": [],
   "source": [
    "times = times.reset_index('time_id', drop=True)"
   ]
  },
  {
   "cell_type": "code",
   "execution_count": null,
   "metadata": {},
   "outputs": [],
   "source": [
    "times - time_agg['time']['mean']"
   ]
  },
  {
   "cell_type": "code",
   "execution_count": null,
   "metadata": {},
   "outputs": [],
   "source": [
    "times - time_agg['time']['mean']"
   ]
  },
  {
   "cell_type": "code",
   "execution_count": null,
   "metadata": {},
   "outputs": [],
   "source": [
    "zscores = np.concatenate(((times.groupby('code_id').apply(lambda r: np.array(r.time)) - time_agg['time']['mean']) / time_agg['time']['std']).values)\n",
    "zscores[np.where(np.isinf(zscores))] = 0\n",
    "zscores = zscores[np.where(~np.isnan(zscores))]"
   ]
  },
  {
   "cell_type": "code",
   "execution_count": null,
   "metadata": {},
   "outputs": [],
   "source": [
    "sns.distplot(zscores[(zscores > -5) & (zscores < 5)], hist_kws={'range': [-5, 5]})\n",
    "plt.plot()"
   ]
  },
  {
   "cell_type": "code",
   "execution_count": null,
   "metadata": {},
   "outputs": [],
   "source": [
    "_ = plt.hist(zscores, bins=50, range=(-3, 3), normed=True)"
   ]
  },
  {
   "cell_type": "code",
   "execution_count": null,
   "metadata": {},
   "outputs": [],
   "source": [
    "times[['code_id', 'time']].apply(lambda row: row['time'] / time_agg.loc[row['code_id']]['time']['std'], axis=1)"
   ]
  }
 ],
 "metadata": {
  "language_info": {
   "name": "python",
   "pygments_lexer": "ipython3"
  }
 },
 "nbformat": 4,
 "nbformat_minor": 2
}
